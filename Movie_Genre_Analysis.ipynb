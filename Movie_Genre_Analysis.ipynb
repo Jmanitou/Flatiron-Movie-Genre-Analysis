{
 "cells": [
  {
   "cell_type": "markdown",
   "metadata": {},
   "source": []
  },
  {
   "cell_type": "markdown",
   "metadata": {},
   "source": []
  },
  {
   "cell_type": "markdown",
   "metadata": {},
   "source": [
    "# Overview\n",
    "\n",
    "This project analyzes data from IMDB, Box Office Mojo, Rotten Tomatoes, TheMovieDB and The Numbers. Descriptive analysis of the data reveals that #########. Our client can use this analysis when deciding which movies to create."
   ]
  },
  {
   "cell_type": "markdown",
   "metadata": {},
   "source": [
    "# Business Problem\n",
    "\n",
    "A company is interested in creating a new movie studio to stay competitive,but they do not know anything about creating movies. \n",
    "\n",
    "Our goal was to determine which movies are doing best at the box office and make three recommendations for our company to use when deciding what type of films to create"
   ]
  },
  {
   "cell_type": "markdown",
   "metadata": {},
   "source": [
    "# Data\n",
    "\n",
    "The data is IMDB, Box Office Mojo, Rotten Tomatoes, TheMovieDB and The Numbers. It includes production data and performance data.  (EXPLAIN DATA POSTIVES AND LIMITATIONS)"
   ]
  },
  {
   "cell_type": "markdown",
   "metadata": {},
   "source": [
    "# Results\n",
    "\n",
    "Our reccomendations..."
   ]
  },
  {
   "cell_type": "markdown",
   "metadata": {},
   "source": [
    "# Importing Libraries And Reading in Data"
   ]
  },
  {
   "cell_type": "code",
   "execution_count": 2,
   "metadata": {},
   "outputs": [],
   "source": [
    "import pandas as pd\n",
    "import numpy as np\n",
    "import sqlite3\n",
    "from scipy import stats\n",
    "import matplotlib.pyplot as plt\n",
    "%matplotlib inline"
   ]
  },
  {
   "cell_type": "code",
   "execution_count": 22,
   "metadata": {
    "scrolled": true
   },
   "outputs": [],
   "source": [
    "#read in csv file, TheNumbers\n",
    "df_movie_budgets = pd.read_csv('data/tn.movie_budgets.csv.gz') #5782 x 6, budget, domestic_gross, worldwide_gross from TheNumbers\n",
    "\n",
    "#read in sql file, IMDB\n",
    "conn = sqlite3.connect(\"data/im.db/im.db\")\n",
    "df_imdb = pd.read_sql( #446414 × 8 runtime, genre, averagerating, number of votes from IMDB\n",
    "    \"\"\"\n",
    "    SELECT basic.primary_title, basic.start_year, basic.runtime_minutes, basic.genres, \n",
    "    rating.averagerating, rating.numvotes, persons.primary_name, persons.primary_profession\n",
    "    FROM movie_basics as basic\n",
    "    JOIN movie_ratings as rating\n",
    "    ON basic.movie_id = rating.movie_id\n",
    "    JOIN directors\n",
    "    ON basic.movie_id = directors.movie_id\n",
    "    JOIN known_for\n",
    "    ON basic.movie_id = known_for.movie_id\n",
    "    JOIN persons\n",
    "    ON known_for.person_id = persons.person_id\n",
    "    WHERE primary_profession = \"actor\" OR primary_profession = \"actress\" OR primary_profession = \"director\"\n",
    "    \"\"\"\n",
    ", conn\n",
    ")\n",
    "\n",
    "#merging TheNumbers and IMDB 8089 x 14\n",
    "df_final = pd.merge(df_movie_budgets, df_imdb, left_on='movie', right_on='primary_title').drop_duplicates()"
   ]
  },
  {
   "cell_type": "code",
   "execution_count": 27,
   "metadata": {},
   "outputs": [
    {
     "data": {
      "text/plain": [
       "Drama                         714\n",
       "Action,Adventure,Sci-Fi       381\n",
       "Drama,Romance                 252\n",
       "Action,Adventure,Fantasy      234\n",
       "Comedy                        233\n",
       "Comedy,Drama,Romance          196\n",
       "Comedy,Drama                  196\n",
       "Action,Crime,Drama            194\n",
       "Biography,Drama,History       182\n",
       "Action,Adventure,Drama        168\n",
       "Action,Adventure,Comedy       153\n",
       "Drama,Thriller                143\n",
       "Comedy,Romance                140\n",
       "Action,Thriller               122\n",
       "Horror,Thriller               114\n",
       "Crime,Drama,Thriller          113\n",
       "Action,Crime,Thriller         109\n",
       "Horror                        109\n",
       "Horror,Mystery,Thriller       106\n",
       "Action,Adventure,Thriller     103\n",
       "Action,Comedy,Crime            95\n",
       "Biography,Drama                94\n",
       "Biography,Comedy,Drama         88\n",
       "Action,Drama,Thriller          84\n",
       "Biography,Crime,Drama          83\n",
       "Crime,Drama                    83\n",
       "Biography,Drama,Sport          80\n",
       "Thriller                       71\n",
       "Crime,Drama,Mystery            71\n",
       "Drama,Mystery,Thriller         69\n",
       "Comedy,Drama,Music             68\n",
       "Biography,Drama,Thriller       67\n",
       "Comedy,Crime,Drama             61\n",
       "Adventure,Animation,Comedy     59\n",
       "Drama,Fantasy,Horror           59\n",
       "Action                         57\n",
       "Action,Adventure,Crime         53\n",
       "Adventure,Comedy,Family        53\n",
       "Action,Biography,Drama         53\n",
       "Action,Sci-Fi,Thriller         52\n",
       "Adventure,Family,Fantasy       48\n",
       "Drama,Horror,Mystery           46\n",
       "Action,Horror,Sci-Fi           46\n",
       "Action,Drama,Sci-Fi            45\n",
       "Drama,Mystery,Sci-Fi           44\n",
       "Biography,Drama,Music          43\n",
       "Biography,Drama,Romance        43\n",
       "Drama,Horror,Thriller          43\n",
       "Comedy,Drama,Family            41\n",
       "Action,Drama,History           39\n",
       "Name: genres, dtype: int64"
      ]
     },
     "execution_count": 27,
     "metadata": {},
     "output_type": "execute_result"
    }
   ],
   "source": [
    "#removing NA values from genres column\n",
    "df_final = df_final[df_final[\"genres\"].isna() == False]\n",
    "df_final[\"genres\"].value_counts().head(50)"
   ]
  },
  {
   "cell_type": "code",
   "execution_count": null,
   "metadata": {},
   "outputs": [],
   "source": []
  },
  {
   "cell_type": "code",
   "execution_count": null,
   "metadata": {},
   "outputs": [],
   "source": []
  },
  {
   "cell_type": "markdown",
   "metadata": {},
   "source": [
    "# Formatting Change and Filtering"
   ]
  },
  {
   "cell_type": "code",
   "execution_count": null,
   "metadata": {},
   "outputs": [],
   "source": []
  },
  {
   "cell_type": "markdown",
   "metadata": {},
   "source": [
    "# Exploratory Data Analysis"
   ]
  },
  {
   "cell_type": "code",
   "execution_count": null,
   "metadata": {},
   "outputs": [],
   "source": []
  },
  {
   "cell_type": "markdown",
   "metadata": {},
   "source": [
    "# Write to File"
   ]
  },
  {
   "cell_type": "code",
   "execution_count": null,
   "metadata": {},
   "outputs": [],
   "source": []
  },
  {
   "cell_type": "markdown",
   "metadata": {},
   "source": [
    "# Conclusion"
   ]
  },
  {
   "cell_type": "markdown",
   "metadata": {},
   "source": [
    "### (BLAH BLAH BLAH)"
   ]
  },
  {
   "cell_type": "markdown",
   "metadata": {},
   "source": [
    "# Appendix"
   ]
  },
  {
   "cell_type": "code",
   "execution_count": null,
   "metadata": {},
   "outputs": [],
   "source": [
    "df_movie_gross = pd.read_csv('data/bom.movie_gross.csv.gz') #3387 x 5 domestic_gross, foreign_gross, year from\n",
    "df_movie_info = pd.read_csv('data/rt.movie_info.tsv.gz', sep='\\t') #1560 x 12 rating, genre, director, writer, box office, runtime from Rotten Tomatoes\n",
    "df_reviews = pd.read_csv('data/rt.reviews.tsv.gz', sep='\\t', encoding='unicode_escape') #54432 x 8 rating, fresh, top critic from Rotten tomatoes\n",
    "df_movies = pd.read_csv('data/tmdb.movies.csv.gz') #26517 x 10 popularity, vote_average, vote_count #from TheMoviesTB\n",
    "df_known_for = pd.read_sql(\n",
    "    \"\"\"\n",
    "    SELECT *\n",
    "    FROM known_for\n",
    "    JOIN persons\n",
    "    ON known_for.person_id = persons.person_id\n",
    "    WHERE primary_profession = \"actor\" OR primary_profession = \"actress\" OR \"director\"\n",
    "    \"\"\"\n",
    ", conn\n",
    ")\n"
   ]
  }
 ],
 "metadata": {
  "kernelspec": {
   "display_name": "Python (learn-env)",
   "language": "python",
   "name": "learn-env"
  },
  "language_info": {
   "codemirror_mode": {
    "name": "ipython",
    "version": 3
   },
   "file_extension": ".py",
   "mimetype": "text/x-python",
   "name": "python",
   "nbconvert_exporter": "python",
   "pygments_lexer": "ipython3",
   "version": "3.8.5"
  }
 },
 "nbformat": 4,
 "nbformat_minor": 4
}
