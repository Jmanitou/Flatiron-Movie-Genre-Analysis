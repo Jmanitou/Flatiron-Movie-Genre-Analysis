{
 "cells": [
  {
   "cell_type": "markdown",
   "metadata": {},
   "source": [
    "# Overview"
   ]
  },
  {
   "cell_type": "markdown",
   "metadata": {},
   "source": [
    "### For this project we were given data from [IMDB](https://www.imdb.com/), [Box Office Mojo](https://www.boxofficemojo.com/), [Rotten Tomatoes](https://www.rottentomatoes.com/), [TheMovieDB](https://www.themoviedb.org/), and [TheNumbers](https://www.the-numbers.com/). Descriptive analysis of the data reveals that creating a movie within the Sci-Fi genre would allow for the best chance to create a box office hit. (                 ) Our client can use this analysis when deciding which movies to create."
   ]
  },
  {
   "cell_type": "markdown",
   "metadata": {},
   "source": [
    "# Business Problem"
   ]
  },
  {
   "cell_type": "markdown",
   "metadata": {},
   "source": [
    "### Our company is interested in creating a new movie studio to stay competitive, but they do not know anything about creating movies.\n",
    "\n",
    "### Our goal was to determine which movies are doing best at the box office and make three recommendations for our company to use when deciding what type of films to create"
   ]
  },
  {
   "cell_type": "markdown",
   "metadata": {},
   "source": [
    "# Data"
   ]
  },
  {
   "cell_type": "markdown",
   "metadata": {},
   "source": [
    "### To help assist us, we used data from [IMDB](https://www.imdb.com/) and [TheNumbers](https://www.the-numbers.com/). TheNumbers allowed us to look at a movie's budget and gross, while IMDB gave us a look at a movie's genres and director.\n",
    "\n",
    "### There were certain limitations with the dataset, with IMDB only having current information from 2010-2019 and also having some cases where a movie was missing a genre as it only showed the top three."
   ]
  },
  {
   "cell_type": "markdown",
   "metadata": {},
   "source": [
    "# Importing Libraries And Reading in Data"
   ]
  },
  {
   "cell_type": "code",
   "execution_count": 160,
   "metadata": {},
   "outputs": [],
   "source": [
    "import pandas as pd\n",
    "import numpy as np\n",
    "import sqlite3\n",
    "from scipy import stats\n",
    "import matplotlib.pyplot as plt\n",
    "import math\n",
    "import seaborn as sns\n",
    "from sklearn.dummy import DummyRegressor\n",
    "%matplotlib inline"
   ]
  },
  {
   "cell_type": "code",
   "execution_count": 161,
   "metadata": {
    "scrolled": true
   },
   "outputs": [],
   "source": [
    "#read in csv file, TheNumbers\n",
    "df_movie_budgets = pd.read_csv('data/tn.movie_budgets.csv.gz') #5782 x 6, budget, domestic_gross, worldwide_gross from TheNumbers\n",
    "\n",
    "#read in sql file, IMDB\n",
    "conn = sqlite3.connect(\"data/im.db/im.db\")\n",
    "df_imdb = pd.read_sql( #163164 × 4 genres, director from IMDB\n",
    "    \"\"\"\n",
    "    SELECT basic.primary_title as movie_title, basic.start_year as year, basic.genres, persons.primary_name as director\n",
    "    FROM movie_basics as basic\n",
    "    JOIN directors\n",
    "    ON basic.movie_id = directors.movie_id\n",
    "    JOIN persons\n",
    "    ON directors.person_id = persons.person_id\n",
    "    \"\"\"\n",
    ", conn\n",
    ").drop_duplicates()"
   ]
  },
  {
   "cell_type": "code",
   "execution_count": 162,
   "metadata": {},
   "outputs": [],
   "source": [
    "#new column to track release year to help with the merge, and stop most cases where different movies are merged together\n",
    "df_movie_budgets[\"release_year\"] = [int(data[-4:]) for data in df_movie_budgets[\"release_date\"]]\n",
    "#merging TheNumbers and IMDB on movie and year 1700 x 11\n",
    "df_final = pd.merge(df_movie_budgets, df_imdb, left_on=['movie', 'release_year'], right_on=['movie_title', 'year'])"
   ]
  },
  {
   "cell_type": "markdown",
   "metadata": {},
   "source": [
    "# Formatting Change and Filtering"
   ]
  },
  {
   "cell_type": "code",
   "execution_count": 163,
   "metadata": {
    "scrolled": true
   },
   "outputs": [],
   "source": [
    "#dropped duplicate columns\n",
    "df_final = df_final.drop(columns=['year', 'movie_title', 'id'])\n",
    "\n",
    "#removing NA values from genres column\n",
    "df_final = df_final.loc[df_final[\"genres\"].isna() == False]\n",
    "\n",
    "#converted string budget and gross to integers to help calculate profit integer\n",
    "df_final[\"production_budget_int\"] = [int(budget.strip('$').replace(\",\", \"\")) for budget in df_final[\"production_budget\"]]\n",
    "df_final[\"worldwide_gross_int\"] = [int(budget.strip('$').replace(\",\", \"\")) for budget in df_final[\"worldwide_gross\"]]\n",
    "df_final[\"profit\"] = df_final[\"worldwide_gross_int\"] - df_final[\"production_budget_int\"]\n",
    "\n",
    "#only look at movies above 100,000,000 profit\n",
    "df_final = df_final.loc[df_final[\"profit\"] > 100000000]\n",
    "\n",
    "#five errors happened where a two different movies were merged together(they had the same name and release year)\n",
    "#the wrong movies were removed based on their genre. The correct movies are still in the dataframe\n",
    "df_final = df_final.drop(df_final.loc[df_final[\"movie\"] == \"Hercules\"].loc[df_final[\"genres\"] == \"Comedy\"].index, axis='index')\n",
    "df_final = df_final.drop(df_final.loc[df_final[\"movie\"] == \"Cinderella\"].loc[df_final[\"genres\"] == \"Fantasy\"].index, axis='index')\n",
    "df_final = df_final.drop(df_final.loc[df_final[\"movie\"] == \"Coco\"].loc[df_final[\"genres\"] == \"Horror\"].index, axis='index')\n",
    "df_final = df_final.drop(df_final.loc[df_final[\"movie\"] == \"Alice in Wonderland\"].loc[df_final[\"genres\"] == \"Fantasy,Musical\"].index, axis='index')\n",
    "df_final = df_final.drop(df_final.loc[df_final[\"movie\"] == \"The Artist\"].loc[df_final[\"genres\"] == \"Thriller\"].index, axis='index')"
   ]
  },
  {
   "cell_type": "code",
   "execution_count": 167,
   "metadata": {},
   "outputs": [],
   "source": [
    "top_five_genres = []\n",
    "#used to seperate movies into their genres and profit. Depending on how many genres a movie has, there will be that many entries\n",
    "def top_five(genre_name):\n",
    "    for movie in df_final[[\"genres\", \"profit\"]].drop_duplicates().values:\n",
    "        if genre_name in movie[0]:\n",
    "            top_five_genres.append([genre_name, movie[1]])\n",
    "            \n",
    "#picked 5 genres with top profit average and top counts. All genres are in the appendix\n",
    "top_five(\"Action\")\n",
    "top_five(\"Adventure\")\n",
    "top_five(\"Animation\") \n",
    "top_five(\"Comedy\")\n",
    "top_five(\"Sci-Fi\")\n",
    "\n",
    "df_genres = pd.DataFrame(top_five_genres, columns=[\"Genre\", \"Profit\"])"
   ]
  },
  {
   "cell_type": "markdown",
   "metadata": {},
   "source": [
    "# Exploratory Data Analysis"
   ]
  },
  {
   "cell_type": "code",
   "execution_count": 168,
   "metadata": {},
   "outputs": [
    {
     "data": {
      "image/png": "[encoded data removed]",
      "text/plain": [
       "<Figure size 1728x1008 with 1 Axes>"
      ]
     },
     "metadata": {
      "needs_background": "light"
     },
     "output_type": "display_data"
    }
   ],
   "source": [
    "#anova with the top 5 genres and their profits\n",
    "f, ax = plt.subplots(figsize=(24,14))\n",
    "# Use specific set of colors\n",
    "colors = sns.color_palette('husl')\n",
    "\n",
    "# Data Points\n",
    "ax = sns.swarmplot(\n",
    "    data=df_genres,\n",
    "    x=\"Genre\",\n",
    "    y=\"Profit\",\n",
    "    ax=ax,\n",
    "    alpha=0.5, \n",
    "    marker='^',\n",
    "    size=8,\n",
    "    palette=colors\n",
    ")\n",
    "\n",
    "ax.axhline(\n",
    "    df_final[\"profit\"].mean(), label='Overall mean',\n",
    "    lw=3, ls='--', color='black', alpha=0.7\n",
    ")\n",
    "\n",
    "areas = df_genres['Genre'].unique()\n",
    "for i,area in enumerate(areas):\n",
    "    mean = df_genres.loc[df_genres['Genre']==area]['Profit'].mean()\n",
    "    # Make these lines short and near each group\n",
    "    xmin = 1/len(areas) * i + 0.05\n",
    "    xmax = xmin + 0.1\n",
    "    ax.axhline(\n",
    "        mean, xmin=xmin, xmax=xmax, label=f'`{area}` mean',\n",
    "        lw=5, ls='-', color=colors[i]\n",
    "    ) \n",
    "plt.title(\"Top 5 Movie Genre Profits\")\n",
    "ax.legend()\n",
    "plt.tight_layout();"
   ]
  },
  {
   "cell_type": "code",
   "execution_count": 169,
   "metadata": {},
   "outputs": [
    {
     "data": {
      "image/png": "[encoded data removed]",
      "text/plain": [
       "<Figure size 432x288 with 1 Axes>"
      ]
     },
     "metadata": {
      "needs_background": "light"
     },
     "output_type": "display_data"
    }
   ],
   "source": [
    "#sci-fi movie profit by budget linear regression\n",
    "slope, intercept, r, p, std_err = stats.linregress(x, y)\n",
    "\n",
    "def myfunc(x):\n",
    "  return slope * x + intercept\n",
    "\n",
    "mymodel = list(map(myfunc, x))\n",
    "\n",
    "plt.xlabel(\"Budget\")\n",
    "plt.ylabel(\"Profit\")\n",
    "plt.title(\"Sci-Fi Movie Profit by Budget\")\n",
    "plt.scatter(x, y)\n",
    "plt.plot(x, mymodel)\n",
    "plt.show()"
   ]
  },
  {
   "cell_type": "code",
   "execution_count": 123,
   "metadata": {},
   "outputs": [
    {
     "data": {
      "text/plain": [
       "0.0"
      ]
     },
     "execution_count": 123,
     "metadata": {},
     "output_type": "execute_result"
    }
   ],
   "source": [
    "df_scifi = pd.DataFrame([movie for movie in df_final[[\"movie\", \"director\", \"genres\", \"production_budget_int\", \"profit\"]]\n",
    "                         .values if \"Sci-Fi\" in movie[2]], \n",
    "                        columns=[\"movie\", \"director\", \"genres\", \"budget\", \"profit\"])\n",
    "df_budget_profit = df_scifi[[\"budget\", \"profit\"]].drop_duplicates()\n",
    "x = list(df_budget_profit[\"budget\"])\n",
    "y = list(df_budget_profit[\"profit\"])\n",
    "dummy_regr = DummyRegressor(strategy=\"mean\")\n",
    "dummy_regr.fit(x, y)\n",
    "dummy_regr.score(x, y)"
   ]
  },
  {
   "cell_type": "code",
   "execution_count": 170,
   "metadata": {
    "scrolled": false
   },
   "outputs": [
    {
     "data": {
      "image/png": "[encoded data removed]",
      "text/plain": [
       "<Figure size 1008x720 with 1 Axes>"
      ]
     },
     "metadata": {
      "needs_background": "light"
     },
     "output_type": "display_data"
    }
   ],
   "source": [
    "#dictionairy to track top 10 sci-fi directors and the average of the movies they have created\n",
    "director_scifi = {director : math.ceil(df_final.loc[df_final[\"director\"] == director][\"profit\"].mean()) \n",
    "                  for director in df_scifi.sort_values(by=[\"profit\"], ascending=False)[\"director\"]\n",
    "                  .drop_duplicates().head(10)}\n",
    "director_scifi\n",
    "fig = plt.figure(figsize = (14, 10))\n",
    "bar = plt.bar(director_scifi.keys(), director_scifi.values())\n",
    "plt.title(\"Sci-Fi Directors by Profit\")\n",
    "plt.xlabel(\"Directors\")\n",
    "plt.ylabel(\"Average Profit\")\n",
    "bar[2].set_color('cyan')\n",
    "plt.show()"
   ]
  },
  {
   "cell_type": "code",
   "execution_count": 146,
   "metadata": {},
   "outputs": [
    {
     "data": {
      "text/html": [
       "<div>\n",
       "<style scoped>\n",
       "    .dataframe tbody tr th:only-of-type {\n",
       "        vertical-align: middle;\n",
       "    }\n",
       "\n",
       "    .dataframe tbody tr th {\n",
       "        vertical-align: top;\n",
       "    }\n",
       "\n",
       "    .dataframe thead th {\n",
       "        text-align: right;\n",
       "    }\n",
       "</style>\n",
       "<table border=\"1\" class=\"dataframe\">\n",
       "  <thead>\n",
       "    <tr style=\"text-align: right;\">\n",
       "      <th></th>\n",
       "      <th>release_date</th>\n",
       "      <th>movie</th>\n",
       "      <th>production_budget</th>\n",
       "      <th>domestic_gross</th>\n",
       "      <th>worldwide_gross</th>\n",
       "      <th>release_year</th>\n",
       "      <th>runtime_minutes</th>\n",
       "      <th>genres</th>\n",
       "      <th>director</th>\n",
       "      <th>production_budget_int</th>\n",
       "      <th>worldwide_gross_int</th>\n",
       "      <th>profit</th>\n",
       "    </tr>\n",
       "  </thead>\n",
       "  <tbody>\n",
       "    <tr>\n",
       "      <th>27</th>\n",
       "      <td>Jun 12, 2015</td>\n",
       "      <td>Jurassic World</td>\n",
       "      <td>$215,000,000</td>\n",
       "      <td>$652,270,625</td>\n",
       "      <td>$1,648,854,864</td>\n",
       "      <td>2015</td>\n",
       "      <td>124.0</td>\n",
       "      <td>Action,Adventure,Sci-Fi</td>\n",
       "      <td>Colin Trevorrow</td>\n",
       "      <td>215000000</td>\n",
       "      <td>1648854864</td>\n",
       "      <td>1433854864</td>\n",
       "    </tr>\n",
       "  </tbody>\n",
       "</table>\n",
       "</div>"
      ],
      "text/plain": [
       "    release_date           movie production_budget domestic_gross  \\\n",
       "27  Jun 12, 2015  Jurassic World      $215,000,000   $652,270,625   \n",
       "\n",
       "   worldwide_gross  release_year  runtime_minutes                   genres  \\\n",
       "27  $1,648,854,864          2015            124.0  Action,Adventure,Sci-Fi   \n",
       "\n",
       "           director  production_budget_int  worldwide_gross_int      profit  \n",
       "27  Colin Trevorrow              215000000           1648854864  1433854864  "
      ]
     },
     "execution_count": 146,
     "metadata": {},
     "output_type": "execute_result"
    }
   ],
   "source": [
    "df_final[df_final[\"director\"] == \"Colin Trevorrow\"]"
   ]
  },
  {
   "cell_type": "markdown",
   "metadata": {},
   "source": [
    "# Write to File"
   ]
  },
  {
   "cell_type": "code",
   "execution_count": null,
   "metadata": {},
   "outputs": [],
   "source": []
  },
  {
   "cell_type": "markdown",
   "metadata": {},
   "source": [
    "# Appendix"
   ]
  },
  {
   "cell_type": "code",
   "execution_count": 173,
   "metadata": {},
   "outputs": [],
   "source": [
    "#since we choose to look at a movie's profit to decide on a movie's success, we decided to only look at TheNumbers\n",
    "#as either the other data sources didnt include budget and gross or had less data than TheNumbers\n",
    "df_movie_gross = pd.read_csv('data/bom.movie_gross.csv.gz') #3387 x 5 domestic_gross, foreign_gross, year from\n",
    "df_movie_info = pd.read_csv('data/rt.movie_info.tsv.gz', sep='\\t') #1560 x 12 rating, genre, director, writer, box office, runtime from Rotten Tomatoes\n",
    "df_reviews = pd.read_csv('data/rt.reviews.tsv.gz', sep='\\t', encoding='unicode_escape') #54432 x 8 rating, fresh, top critic from Rotten tomatoes\n",
    "df_movies = pd.read_csv('data/tmdb.movies.csv.gz') #26517 x 10 popularity, vote_average, vote_count #from TheMoviesTB\n",
    "#df_directors = pd.read_sql(\n",
    "   # \"\"\"\n",
    "    #Select persons.primary_name, persons.primary_profession, movie_basics.primary_title\n",
    "    #FROM directors\n",
    "    #JOIN persons\n",
    "    #ON directors.person_id = persons.person_id\n",
    "    #JOIN movie_basics\n",
    "    #ON movie_basics.movie_id = directors.movie_id\n",
    "    #\"\"\"\n",
    "#, conn\n",
    "#)\n",
    "#df_persons = pd.read_sql(\n",
    "    #\"\"\"\n",
    "    #SELECT *\n",
    "    #FROM known_for\n",
    "    #JOIN persons\n",
    "    #ON known_for.person_id = persons.person_id\n",
    "    #\"\"\"\n",
    "#, conn\n",
    "#)"
   ]
  },
  {
   "cell_type": "code",
   "execution_count": 187,
   "metadata": {},
   "outputs": [
    {
     "data": {
      "text/html": [
       "<div>\n",
       "<style scoped>\n",
       "    .dataframe tbody tr th:only-of-type {\n",
       "        vertical-align: middle;\n",
       "    }\n",
       "\n",
       "    .dataframe tbody tr th {\n",
       "        vertical-align: top;\n",
       "    }\n",
       "\n",
       "    .dataframe thead th {\n",
       "        text-align: right;\n",
       "    }\n",
       "</style>\n",
       "<table border=\"1\" class=\"dataframe\">\n",
       "  <thead>\n",
       "    <tr style=\"text-align: right;\">\n",
       "      <th></th>\n",
       "      <th>movie_title</th>\n",
       "      <th>year</th>\n",
       "      <th>genres</th>\n",
       "      <th>director</th>\n",
       "    </tr>\n",
       "  </thead>\n",
       "  <tbody>\n",
       "    <tr>\n",
       "      <th>21501</th>\n",
       "      <td>Avatar 2</td>\n",
       "      <td>2021</td>\n",
       "      <td>Action,Adventure,Fantasy</td>\n",
       "      <td>James Cameron</td>\n",
       "    </tr>\n",
       "    <tr>\n",
       "      <th>31366</th>\n",
       "      <td>Avatar 3</td>\n",
       "      <td>2023</td>\n",
       "      <td>Action,Adventure,Drama</td>\n",
       "      <td>James Cameron</td>\n",
       "    </tr>\n",
       "    <tr>\n",
       "      <th>108965</th>\n",
       "      <td>Avatar 4</td>\n",
       "      <td>2025</td>\n",
       "      <td>Action,Adventure,Fantasy</td>\n",
       "      <td>James Cameron</td>\n",
       "    </tr>\n",
       "    <tr>\n",
       "      <th>205769</th>\n",
       "      <td>Avatar 5</td>\n",
       "      <td>2027</td>\n",
       "      <td>Action,Adventure,Fantasy</td>\n",
       "      <td>James Cameron</td>\n",
       "    </tr>\n",
       "  </tbody>\n",
       "</table>\n",
       "</div>"
      ],
      "text/plain": [
       "       movie_title  year                    genres       director\n",
       "21501     Avatar 2  2021  Action,Adventure,Fantasy  James Cameron\n",
       "31366     Avatar 3  2023    Action,Adventure,Drama  James Cameron\n",
       "108965    Avatar 4  2025  Action,Adventure,Fantasy  James Cameron\n",
       "205769    Avatar 5  2027  Action,Adventure,Fantasy  James Cameron"
      ]
     },
     "execution_count": 187,
     "metadata": {},
     "output_type": "execute_result"
    }
   ],
   "source": [
    "#Some findings we made throughout the project\n",
    "\n",
    "#Something we noticed is that Avatar is not a part of the IMDB data, \n",
    "#which is very suprising as its either the top or second highest profitable movie. It came out in 2009.\n",
    "df_imdb[df_imdb[\"director\"] == \"James Cameron\"]"
   ]
  },
  {
   "cell_type": "code",
   "execution_count": 188,
   "metadata": {
    "scrolled": true
   },
   "outputs": [
    {
     "name": "stdout",
     "output_type": "stream",
     "text": [
      "2017    19471\n",
      "2016    19068\n",
      "2018    18858\n",
      "2014    17843\n",
      "2015    17773\n",
      "2013    16664\n",
      "2012    15485\n",
      "2011    14819\n",
      "2010    13301\n",
      "2019     8911\n",
      "2020      873\n",
      "2021       74\n",
      "2022       18\n",
      "2023        2\n",
      "2027        1\n",
      "2025        1\n",
      "2024        1\n",
      "2115        1\n",
      "Name: year, dtype: int64\n"
     ]
    }
   ],
   "source": [
    "#The data seems to start in 2010 and starts dwindling in 2020\n",
    "print(df_imdb[\"year\"].value_counts())"
   ]
  },
  {
   "cell_type": "code",
   "execution_count": 190,
   "metadata": {},
   "outputs": [
    {
     "data": {
      "text/html": [
       "<div>\n",
       "<style scoped>\n",
       "    .dataframe tbody tr th:only-of-type {\n",
       "        vertical-align: middle;\n",
       "    }\n",
       "\n",
       "    .dataframe tbody tr th {\n",
       "        vertical-align: top;\n",
       "    }\n",
       "\n",
       "    .dataframe thead th {\n",
       "        text-align: right;\n",
       "    }\n",
       "</style>\n",
       "<table border=\"1\" class=\"dataframe\">\n",
       "  <thead>\n",
       "    <tr style=\"text-align: right;\">\n",
       "      <th></th>\n",
       "      <th>release_date</th>\n",
       "      <th>movie</th>\n",
       "      <th>production_budget</th>\n",
       "      <th>domestic_gross</th>\n",
       "      <th>worldwide_gross</th>\n",
       "      <th>release_year</th>\n",
       "      <th>genres</th>\n",
       "      <th>director</th>\n",
       "      <th>production_budget_int</th>\n",
       "      <th>worldwide_gross_int</th>\n",
       "      <th>profit</th>\n",
       "    </tr>\n",
       "  </thead>\n",
       "  <tbody>\n",
       "    <tr>\n",
       "      <th>90</th>\n",
       "      <td>Aug 1, 2014</td>\n",
       "      <td>Guardians of the Galaxy</td>\n",
       "      <td>$170,000,000</td>\n",
       "      <td>$333,172,112</td>\n",
       "      <td>$770,867,516</td>\n",
       "      <td>2014</td>\n",
       "      <td>Action,Adventure,Comedy</td>\n",
       "      <td>James Gunn</td>\n",
       "      <td>170000000</td>\n",
       "      <td>770867516</td>\n",
       "      <td>600867516</td>\n",
       "    </tr>\n",
       "  </tbody>\n",
       "</table>\n",
       "</div>"
      ],
      "text/plain": [
       "   release_date                    movie production_budget domestic_gross  \\\n",
       "90  Aug 1, 2014  Guardians of the Galaxy      $170,000,000   $333,172,112   \n",
       "\n",
       "   worldwide_gross  release_year                   genres    director  \\\n",
       "90    $770,867,516          2014  Action,Adventure,Comedy  James Gunn   \n",
       "\n",
       "    production_budget_int  worldwide_gross_int     profit  \n",
       "90              170000000            770867516  600867516  "
      ]
     },
     "execution_count": 190,
     "metadata": {},
     "output_type": "execute_result"
    }
   ],
   "source": [
    "#some movies arent listed with applicable genres, missing SciFi. It takes place in space and the cast is comprised of aliens\n",
    "df_final.loc[df_final[\"movie\"] == \"Guardians of the Galaxy\"]"
   ]
  },
  {
   "cell_type": "code",
   "execution_count": 191,
   "metadata": {},
   "outputs": [
    {
     "data": {
      "text/html": [
       "<div>\n",
       "<style scoped>\n",
       "    .dataframe tbody tr th:only-of-type {\n",
       "        vertical-align: middle;\n",
       "    }\n",
       "\n",
       "    .dataframe tbody tr th {\n",
       "        vertical-align: top;\n",
       "    }\n",
       "\n",
       "    .dataframe thead th {\n",
       "        text-align: right;\n",
       "    }\n",
       "</style>\n",
       "<table border=\"1\" class=\"dataframe\">\n",
       "  <thead>\n",
       "    <tr style=\"text-align: right;\">\n",
       "      <th></th>\n",
       "      <th>movie_title</th>\n",
       "      <th>year</th>\n",
       "      <th>genres</th>\n",
       "      <th>director</th>\n",
       "    </tr>\n",
       "  </thead>\n",
       "  <tbody>\n",
       "    <tr>\n",
       "      <th>193106</th>\n",
       "      <td>100 Years</td>\n",
       "      <td>2115</td>\n",
       "      <td>Drama</td>\n",
       "      <td>Robert Rodriguez</td>\n",
       "    </tr>\n",
       "  </tbody>\n",
       "</table>\n",
       "</div>"
      ],
      "text/plain": [
       "       movie_title  year genres          director\n",
       "193106   100 Years  2115  Drama  Robert Rodriguez"
      ]
     },
     "execution_count": 191,
     "metadata": {},
     "output_type": "execute_result"
    }
   ],
   "source": [
    "#also interesting that imdb has data from movies that aren't currently out or werent out when the data was taken. \n",
    "#This entry actually is correct as the movie is being released in 2115\n",
    "df_imdb[df_imdb[\"year\"] == 2115]"
   ]
  },
  {
   "cell_type": "code",
   "execution_count": 193,
   "metadata": {},
   "outputs": [
    {
     "data": {
      "text/html": [
       "<div>\n",
       "<style scoped>\n",
       "    .dataframe tbody tr th:only-of-type {\n",
       "        vertical-align: middle;\n",
       "    }\n",
       "\n",
       "    .dataframe tbody tr th {\n",
       "        vertical-align: top;\n",
       "    }\n",
       "\n",
       "    .dataframe thead th {\n",
       "        text-align: right;\n",
       "    }\n",
       "</style>\n",
       "<table border=\"1\" class=\"dataframe\">\n",
       "  <thead>\n",
       "    <tr style=\"text-align: right;\">\n",
       "      <th></th>\n",
       "      <th>Genre</th>\n",
       "      <th>Average</th>\n",
       "      <th>Count</th>\n",
       "      <th>Profits</th>\n",
       "    </tr>\n",
       "  </thead>\n",
       "  <tbody>\n",
       "    <tr>\n",
       "      <th>0</th>\n",
       "      <td>Action</td>\n",
       "      <td>379421200</td>\n",
       "      <td>179</td>\n",
       "      <td>[635063875, 1072413963, 1748134200, 355945209,...</td>\n",
       "    </tr>\n",
       "    <tr>\n",
       "      <th>1</th>\n",
       "      <td>Adventure</td>\n",
       "      <td>418484478</td>\n",
       "      <td>198</td>\n",
       "      <td>[635063875, 1072413963, 1748134200, 355945209,...</td>\n",
       "    </tr>\n",
       "    <tr>\n",
       "      <th>2</th>\n",
       "      <td>Animation</td>\n",
       "      <td>399765177</td>\n",
       "      <td>69</td>\n",
       "      <td>[326477240, 1042520711, 821215193, 868879522, ...</td>\n",
       "    </tr>\n",
       "    <tr>\n",
       "      <th>3</th>\n",
       "      <td>Biography</td>\n",
       "      <td>224641882</td>\n",
       "      <td>26</td>\n",
       "      <td>[397938302, 289870414, 302665550, 208346281, 1...</td>\n",
       "    </tr>\n",
       "    <tr>\n",
       "      <th>4</th>\n",
       "      <td>Comedy</td>\n",
       "      <td>301379412</td>\n",
       "      <td>131</td>\n",
       "      <td>[326477240, 439213485, 821215193, 868879522, 5...</td>\n",
       "    </tr>\n",
       "    <tr>\n",
       "      <th>5</th>\n",
       "      <td>Crime</td>\n",
       "      <td>233587409</td>\n",
       "      <td>36</td>\n",
       "      <td>[984846267, 1328722794, 505163454, 410663443, ...</td>\n",
       "    </tr>\n",
       "    <tr>\n",
       "      <th>6</th>\n",
       "      <td>Documentary</td>\n",
       "      <td>183994263</td>\n",
       "      <td>4</td>\n",
       "      <td>[184486852, 255997896, 151685793, 143806510]</td>\n",
       "    </tr>\n",
       "    <tr>\n",
       "      <th>7</th>\n",
       "      <td>Drama</td>\n",
       "      <td>226631231</td>\n",
       "      <td>110</td>\n",
       "      <td>[112459006, 161040419, 168902025, 787854547, 5...</td>\n",
       "    </tr>\n",
       "    <tr>\n",
       "      <th>8</th>\n",
       "      <td>Fantasy</td>\n",
       "      <td>393035119</td>\n",
       "      <td>44</td>\n",
       "      <td>[635063875, 355945209, 118151347, 617500281, 7...</td>\n",
       "    </tr>\n",
       "    <tr>\n",
       "      <th>9</th>\n",
       "      <td>Family</td>\n",
       "      <td>367543354</td>\n",
       "      <td>29</td>\n",
       "      <td>[767003568, 825491110, 290359051, 452220086, 4...</td>\n",
       "    </tr>\n",
       "    <tr>\n",
       "      <th>10</th>\n",
       "      <td>History</td>\n",
       "      <td>173171337</td>\n",
       "      <td>10</td>\n",
       "      <td>[349837368, 208346281, 129748880, 122498338, 1...</td>\n",
       "    </tr>\n",
       "    <tr>\n",
       "      <th>11</th>\n",
       "      <td>Horror</td>\n",
       "      <td>203598497</td>\n",
       "      <td>29</td>\n",
       "      <td>[341514650, 351530715, 141521247, 175647629, 2...</td>\n",
       "    </tr>\n",
       "    <tr>\n",
       "      <th>12</th>\n",
       "      <td>Music</td>\n",
       "      <td>289042913</td>\n",
       "      <td>7</td>\n",
       "      <td>[839985342, 140736412, 132552290, 135889117, 2...</td>\n",
       "    </tr>\n",
       "    <tr>\n",
       "      <th>13</th>\n",
       "      <td>Musical</td>\n",
       "      <td>700932628</td>\n",
       "      <td>2</td>\n",
       "      <td>[1099199706, 302665550]</td>\n",
       "    </tr>\n",
       "    <tr>\n",
       "      <th>14</th>\n",
       "      <td>Mystery</td>\n",
       "      <td>217980477</td>\n",
       "      <td>26</td>\n",
       "      <td>[160650494, 277448265, 149373970, 191014965, 5...</td>\n",
       "    </tr>\n",
       "    <tr>\n",
       "      <th>15</th>\n",
       "      <td>Sci-Fi</td>\n",
       "      <td>461207145</td>\n",
       "      <td>71</td>\n",
       "      <td>[1072413963, 1748134200, 890069413, 1292935897...</td>\n",
       "    </tr>\n",
       "    <tr>\n",
       "      <th>16</th>\n",
       "      <td>Thriller</td>\n",
       "      <td>283956942</td>\n",
       "      <td>62</td>\n",
       "      <td>[579620923, 809439099, 984846267, 910526981, 1...</td>\n",
       "    </tr>\n",
       "    <tr>\n",
       "      <th>17</th>\n",
       "      <td>War</td>\n",
       "      <td>156043081</td>\n",
       "      <td>3</td>\n",
       "      <td>[220780051, 130315681, 117033509]</td>\n",
       "    </tr>\n",
       "    <tr>\n",
       "      <th>18</th>\n",
       "      <td>Western</td>\n",
       "      <td>283612626</td>\n",
       "      <td>2</td>\n",
       "      <td>[349948323, 217276928]</td>\n",
       "    </tr>\n",
       "  </tbody>\n",
       "</table>\n",
       "</div>"
      ],
      "text/plain": [
       "          Genre    Average  Count  \\\n",
       "0        Action  379421200    179   \n",
       "1     Adventure  418484478    198   \n",
       "2     Animation  399765177     69   \n",
       "3     Biography  224641882     26   \n",
       "4        Comedy  301379412    131   \n",
       "5         Crime  233587409     36   \n",
       "6   Documentary  183994263      4   \n",
       "7         Drama  226631231    110   \n",
       "8       Fantasy  393035119     44   \n",
       "9        Family  367543354     29   \n",
       "10      History  173171337     10   \n",
       "11       Horror  203598497     29   \n",
       "12        Music  289042913      7   \n",
       "13      Musical  700932628      2   \n",
       "14      Mystery  217980477     26   \n",
       "15       Sci-Fi  461207145     71   \n",
       "16     Thriller  283956942     62   \n",
       "17          War  156043081      3   \n",
       "18      Western  283612626      2   \n",
       "\n",
       "                                              Profits  \n",
       "0   [635063875, 1072413963, 1748134200, 355945209,...  \n",
       "1   [635063875, 1072413963, 1748134200, 355945209,...  \n",
       "2   [326477240, 1042520711, 821215193, 868879522, ...  \n",
       "3   [397938302, 289870414, 302665550, 208346281, 1...  \n",
       "4   [326477240, 439213485, 821215193, 868879522, 5...  \n",
       "5   [984846267, 1328722794, 505163454, 410663443, ...  \n",
       "6        [184486852, 255997896, 151685793, 143806510]  \n",
       "7   [112459006, 161040419, 168902025, 787854547, 5...  \n",
       "8   [635063875, 355945209, 118151347, 617500281, 7...  \n",
       "9   [767003568, 825491110, 290359051, 452220086, 4...  \n",
       "10  [349837368, 208346281, 129748880, 122498338, 1...  \n",
       "11  [341514650, 351530715, 141521247, 175647629, 2...  \n",
       "12  [839985342, 140736412, 132552290, 135889117, 2...  \n",
       "13                            [1099199706, 302665550]  \n",
       "14  [160650494, 277448265, 149373970, 191014965, 5...  \n",
       "15  [1072413963, 1748134200, 890069413, 1292935897...  \n",
       "16  [579620923, 809439099, 984846267, 910526981, 1...  \n",
       "17                  [220780051, 130315681, 117033509]  \n",
       "18                             [349948323, 217276928]  "
      ]
     },
     "execution_count": 193,
     "metadata": {},
     "output_type": "execute_result"
    }
   ],
   "source": [
    "def avg_profit_genre(genre_name):\n",
    "    genre_combined_profit = 0\n",
    "    genre_count = 0\n",
    "    movie_profits = []\n",
    "    for movie in df_final[[\"genres\", \"profit\"]].drop_duplicates().values:\n",
    "        if genre_name in movie[0]:\n",
    "            if genre_name == \"Music\" and \"Musical\" in movie[0]: #makes sure to keep Musical movies out of the Music average\n",
    "                continue\n",
    "            movie_profits.append(movie[1])\n",
    "            genre_combined_profit += movie[1]\n",
    "            genre_count += 1\n",
    "    return [genre_name, math.ceil(genre_combined_profit/genre_count), genre_count, movie_profits] \n",
    "\n",
    "genre_averages = [avg_profit_genre(\"Action\"), avg_profit_genre(\"Adventure\"), avg_profit_genre(\"Animation\"), \n",
    "                avg_profit_genre(\"Biography\"), avg_profit_genre(\"Comedy\"), avg_profit_genre(\"Crime\"), \n",
    "                avg_profit_genre(\"Documentary\"), avg_profit_genre(\"Drama\"), avg_profit_genre(\"Fantasy\"),\n",
    "                avg_profit_genre(\"Family\"), avg_profit_genre(\"History\"), avg_profit_genre(\"Horror\"),\n",
    "                avg_profit_genre(\"Music\"), avg_profit_genre(\"Musical\"), avg_profit_genre(\"Mystery\"), \n",
    "                avg_profit_genre(\"Sci-Fi\"), avg_profit_genre(\"Thriller\"), avg_profit_genre(\"War\"),\n",
    "                avg_profit_genre(\"Western\")]\n",
    "df_genres = pd.DataFrame(genre_averages, columns=[\"Genre\", \"Average\", \"Count\", \"Profits\"])\n",
    "df_genres"
   ]
  }
 ],
 "metadata": {
  "kernelspec": {
   "display_name": "Python (learn-env)",
   "language": "python",
   "name": "learn-env"
  },
  "language_info": {
   "codemirror_mode": {
    "name": "ipython",
    "version": 3
   },
   "file_extension": ".py",
   "mimetype": "text/x-python",
   "name": "python",
   "nbconvert_exporter": "python",
   "pygments_lexer": "ipython3",
   "version": "3.8.5"
  }
 },
 "nbformat": 4,
 "nbformat_minor": 4
}
